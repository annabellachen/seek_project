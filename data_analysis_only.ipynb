{
 "cells": [
  {
   "cell_type": "code",
   "id": "initial_id",
   "metadata": {
    "collapsed": true,
    "ExecuteTime": {
     "end_time": "2025-03-17T01:02:28.256752Z",
     "start_time": "2025-03-17T01:02:28.175340Z"
    }
   },
   "source": [
    "import lzma\n",
    "import json\n",
    "\n",
    "import pandas as pd\n",
    "from geopy.geocoders import GoogleV3\n",
    "import os\n",
    "import matplotlib.pyplot as plt\n",
    "import seaborn as sns\n",
    "from pandas import isnull\n",
    "from sklearn.preprocessing import StandardScaler\n",
    "from sklearn.decomposition import LatentDirichletAllocation\n",
    "import numpy as np\n",
    "import re\n",
    "from sklearn.feature_extraction.text import TfidfVectorizer\n",
    "from sklearn.decomposition import LatentDirichletAllocation\n",
    "from textblob import TextBlob\n",
    "from wordcloud import WordCloud\n",
    "import matplotlib.pyplot as plt\n",
    "from bs4 import BeautifulSoup\n",
    "from nltk.corpus import stopwords\n",
    "from nltk.stem import WordNetLemmatizer\n",
    "import langid\n",
    "import nltk"
   ],
   "outputs": [],
   "execution_count": 9
  },
  {
   "metadata": {},
   "cell_type": "markdown",
   "source": "# Read processed event data",
   "id": "4c3f595ce596cd3e"
  },
  {
   "metadata": {
    "ExecuteTime": {
     "end_time": "2025-03-17T01:02:35.302942Z",
     "start_time": "2025-03-17T01:02:29.756335Z"
    }
   },
   "cell_type": "code",
   "source": [
    "job_ad_extend_coord_df = pd.read_csv(\"job_ad_extend_coord_df.csv\",index_col=0)\n",
    "event_data_dedup_df = pd.read_csv(\"data/event_data_dedup_df.csv\",index_col=0)"
   ],
   "id": "1dae247724be5110",
   "outputs": [],
   "execution_count": 10
  },
  {
   "metadata": {
    "ExecuteTime": {
     "end_time": "2025-03-16T23:04:08.537267Z",
     "start_time": "2025-03-16T23:04:08.523055Z"
    }
   },
   "cell_type": "code",
   "source": "job_ad_extend_coord_df[job_ad_extend_coord_df[\"id\"] == 38922293]",
   "id": "57150ae521f4856c",
   "outputs": [
    {
     "data": {
      "text/plain": [
       "             id  title                                           abstract  \\\n",
       "22262  38922293  Other  Our Client based in Mascot is seeking sorters ...   \n",
       "\n",
       "                                                 content additionalSalaryText  \\\n",
       "22262  <HTML><p>Our client based in Mascot is seeking...       $24 - $25 p.h.   \n",
       "\n",
       "             standout.bullet1                 standout.bullet2  \\\n",
       "22262  Process Workers Needed  Food Industry Knowledge a MUST!   \n",
       "\n",
       "      standout.bullet3              classification subClassification  ...  \\\n",
       "22262  Mascot Location  Retail & Consumer Products             Other  ...   \n",
       "\n",
       "      state    country                                    cleaned_content  \\\n",
       "22262   NSW  Australia  Our client based in Mascot is seeking sorters ...   \n",
       "\n",
       "                                        abstract_content  cleaned_title  \\\n",
       "22262  client mascot seeking sorter dispatch food pro...            NaN   \n",
       "\n",
       "       is_english                   title_keywords  \\\n",
       "22262        True  area manager, assistant manager   \n",
       "\n",
       "                                                keywords salary_value  \\\n",
       "22262  team player, assistant manager, assistant stor...         24.5   \n",
       "\n",
       "      salary_unit  \n",
       "22262        year  \n",
       "\n",
       "[1 rows x 26 columns]"
      ],
      "text/html": [
       "<div>\n",
       "<style scoped>\n",
       "    .dataframe tbody tr th:only-of-type {\n",
       "        vertical-align: middle;\n",
       "    }\n",
       "\n",
       "    .dataframe tbody tr th {\n",
       "        vertical-align: top;\n",
       "    }\n",
       "\n",
       "    .dataframe thead th {\n",
       "        text-align: right;\n",
       "    }\n",
       "</style>\n",
       "<table border=\"1\" class=\"dataframe\">\n",
       "  <thead>\n",
       "    <tr style=\"text-align: right;\">\n",
       "      <th></th>\n",
       "      <th>id</th>\n",
       "      <th>title</th>\n",
       "      <th>abstract</th>\n",
       "      <th>content</th>\n",
       "      <th>additionalSalaryText</th>\n",
       "      <th>standout.bullet1</th>\n",
       "      <th>standout.bullet2</th>\n",
       "      <th>standout.bullet3</th>\n",
       "      <th>classification</th>\n",
       "      <th>subClassification</th>\n",
       "      <th>...</th>\n",
       "      <th>state</th>\n",
       "      <th>country</th>\n",
       "      <th>cleaned_content</th>\n",
       "      <th>abstract_content</th>\n",
       "      <th>cleaned_title</th>\n",
       "      <th>is_english</th>\n",
       "      <th>title_keywords</th>\n",
       "      <th>keywords</th>\n",
       "      <th>salary_value</th>\n",
       "      <th>salary_unit</th>\n",
       "    </tr>\n",
       "  </thead>\n",
       "  <tbody>\n",
       "    <tr>\n",
       "      <th>22262</th>\n",
       "      <td>38922293</td>\n",
       "      <td>Other</td>\n",
       "      <td>Our Client based in Mascot is seeking sorters ...</td>\n",
       "      <td>&lt;HTML&gt;&lt;p&gt;Our client based in Mascot is seeking...</td>\n",
       "      <td>$24 - $25 p.h.</td>\n",
       "      <td>Process Workers Needed</td>\n",
       "      <td>Food Industry Knowledge a MUST!</td>\n",
       "      <td>Mascot Location</td>\n",
       "      <td>Retail &amp; Consumer Products</td>\n",
       "      <td>Other</td>\n",
       "      <td>...</td>\n",
       "      <td>NSW</td>\n",
       "      <td>Australia</td>\n",
       "      <td>Our client based in Mascot is seeking sorters ...</td>\n",
       "      <td>client mascot seeking sorter dispatch food pro...</td>\n",
       "      <td>NaN</td>\n",
       "      <td>True</td>\n",
       "      <td>area manager, assistant manager</td>\n",
       "      <td>team player, assistant manager, assistant stor...</td>\n",
       "      <td>24.5</td>\n",
       "      <td>year</td>\n",
       "    </tr>\n",
       "  </tbody>\n",
       "</table>\n",
       "<p>1 rows × 26 columns</p>\n",
       "</div>"
      ]
     },
     "execution_count": 8,
     "metadata": {},
     "output_type": "execute_result"
    }
   ],
   "execution_count": 8
  },
  {
   "metadata": {
    "ExecuteTime": {
     "end_time": "2025-03-16T00:45:44.195178Z",
     "start_time": "2025-03-16T00:45:44.172586Z"
    }
   },
   "cell_type": "code",
   "source": "job_ad_extend_coord_df.columns",
   "id": "6dfdcc8b15d839d0",
   "outputs": [
    {
     "data": {
      "text/plain": [
       "Index(['id', 'title', 'abstract', 'content', 'additionalSalaryText',\n",
       "       'standout.bullet1', 'standout.bullet2', 'standout.bullet3',\n",
       "       'classification', 'subClassification', 'workType', 'area_location',\n",
       "       'address', 'Latitude', 'Longitude', 'global', 'state', 'country',\n",
       "       'cleaned_content', 'abstract_content', 'cleaned_title', 'is_english',\n",
       "       'title_keywords', 'keywords', 'salary_value', 'salary_unit'],\n",
       "      dtype='object')"
      ]
     },
     "execution_count": 134,
     "metadata": {},
     "output_type": "execute_result"
    }
   ],
   "execution_count": 134
  },
  {
   "metadata": {
    "ExecuteTime": {
     "end_time": "2025-03-17T01:02:35.344293Z",
     "start_time": "2025-03-17T01:02:35.302942Z"
    }
   },
   "cell_type": "code",
   "source": [
    "job_ad_extend_coord_df = job_ad_extend_coord_df[['id', 'title', 'abstract', 'content', 'additionalSalaryText',\n",
    "       'classification', 'subClassification', 'workType', 'area_location',\n",
    "       'address', 'Latitude', 'Longitude', 'global', 'state', 'country',\n",
    "       'cleaned_content', 'abstract_content',\n",
    "       'salary_value', 'salary_unit']]"
   ],
   "id": "b27d103d4feb52",
   "outputs": [],
   "execution_count": 11
  },
  {
   "metadata": {
    "ExecuteTime": {
     "end_time": "2025-03-17T01:02:38.625467Z",
     "start_time": "2025-03-17T01:02:38.078159Z"
    }
   },
   "cell_type": "code",
   "source": "job_event_join_df = event_data_dedup_df.merge(job_ad_extend_coord_df, left_on='job_id', right_on='id', how='inner')",
   "id": "1cbaecbd6a88999b",
   "outputs": [],
   "execution_count": 12
  },
  {
   "metadata": {
    "ExecuteTime": {
     "end_time": "2025-03-15T09:36:38.289523Z",
     "start_time": "2025-03-15T09:36:38.112579Z"
    }
   },
   "cell_type": "code",
   "source": [
    "event_data_pivot_kind_df = (\n",
    "    job_event_join_df.groupby([\"resume_id\", \"kind\"])[\"event_datetime\"].count()\n",
    "    .reset_index()\n",
    "    .pivot(index='resume_id', columns='kind', values='event_datetime')\n",
    "    .reset_index()\n",
    "    .rename_axis(None, axis=1)  # Remove the axis name (kind)\n",
    "    .sort_values(by=[\"V\"], ascending=False)\n",
    ")\n",
    "event_data_pivot_kind_df.loc[:, \"A\"] = event_data_pivot_kind_df[\"A\"].fillna(0)\n",
    "event_data_pivot_kind_df['A'] = event_data_pivot_kind_df['A'].astype(int)\n",
    "event_data_pivot_kind_df.loc[:, \"V\"] = event_data_pivot_kind_df[\"V\"].fillna(0)\n",
    "event_data_pivot_kind_df['V'] = event_data_pivot_kind_df['V'].astype(int)\n",
    "event_data_pivot_kind_df['diff'] = event_data_pivot_kind_df['V'] - event_data_pivot_kind_df['A']"
   ],
   "id": "9b62ded92b2d4091",
   "outputs": [],
   "execution_count": 37
  },
  {
   "metadata": {
    "ExecuteTime": {
     "end_time": "2025-03-15T09:38:02.842312Z",
     "start_time": "2025-03-15T09:38:02.838714Z"
    }
   },
   "cell_type": "code",
   "source": "event_data_pivot_kind_df['diff_percentage'] = (event_data_pivot_kind_df['V'] - event_data_pivot_kind_df['A'])/(event_data_pivot_kind_df['V'] + event_data_pivot_kind_df['A'])",
   "id": "f3d6af82e20d481f",
   "outputs": [],
   "execution_count": 39
  },
  {
   "metadata": {
    "ExecuteTime": {
     "end_time": "2025-03-15T10:21:13.207386Z",
     "start_time": "2025-03-15T10:21:13.195728Z"
    }
   },
   "cell_type": "code",
   "source": "",
   "id": "7c0fd7dc08aad64e",
   "outputs": [],
   "execution_count": 68
  },
  {
   "metadata": {
    "ExecuteTime": {
     "end_time": "2025-03-15T10:27:31.113714Z",
     "start_time": "2025-03-15T10:27:16.861686Z"
    }
   },
   "cell_type": "code",
   "source": "",
   "id": "b8276f38763b61c7",
   "outputs": [
    {
     "name": "stdout",
     "output_type": "stream",
     "text": [
      "       resume_id  center_latitude  center_longitude\n",
      "0              1       -33.008174        148.259604\n",
      "1              2       -32.495584        143.590070\n",
      "2              3       -31.844335        147.249884\n",
      "3              4       -33.341347        146.521079\n",
      "4              5       -34.503972        149.223277\n",
      "...          ...              ...               ...\n",
      "29413     438636       -34.928499        138.600746\n",
      "29414     438685       -33.571679        146.711498\n",
      "29415     438904       -35.824565        147.978813\n",
      "29416     439309       -34.090946        147.899086\n",
      "29417     439329       -34.561739        141.735420\n",
      "\n",
      "[29418 rows x 3 columns]\n"
     ]
    }
   ],
   "execution_count": 81
  },
  {
   "metadata": {
    "ExecuteTime": {
     "end_time": "2025-03-15T09:38:10.569417Z",
     "start_time": "2025-03-15T09:38:10.561805Z"
    }
   },
   "cell_type": "code",
   "source": "event_data_pivot_kind_df.head()",
   "id": "f53d26456c0c305",
   "outputs": [
    {
     "data": {
      "text/plain": [
       "      resume_id    A     V  diff  diff_percentage\n",
       "211         245  915  2418  1503         0.450945\n",
       "4740       6517  547  1834  1287         0.540529\n",
       "3364       4456  109  1820  1711         0.886988\n",
       "851        1099    0  1707  1707         1.000000\n",
       "3770       5046   97  1611  1514         0.886417"
      ],
      "text/html": [
       "<div>\n",
       "<style scoped>\n",
       "    .dataframe tbody tr th:only-of-type {\n",
       "        vertical-align: middle;\n",
       "    }\n",
       "\n",
       "    .dataframe tbody tr th {\n",
       "        vertical-align: top;\n",
       "    }\n",
       "\n",
       "    .dataframe thead th {\n",
       "        text-align: right;\n",
       "    }\n",
       "</style>\n",
       "<table border=\"1\" class=\"dataframe\">\n",
       "  <thead>\n",
       "    <tr style=\"text-align: right;\">\n",
       "      <th></th>\n",
       "      <th>resume_id</th>\n",
       "      <th>A</th>\n",
       "      <th>V</th>\n",
       "      <th>diff</th>\n",
       "      <th>diff_percentage</th>\n",
       "    </tr>\n",
       "  </thead>\n",
       "  <tbody>\n",
       "    <tr>\n",
       "      <th>211</th>\n",
       "      <td>245</td>\n",
       "      <td>915</td>\n",
       "      <td>2418</td>\n",
       "      <td>1503</td>\n",
       "      <td>0.450945</td>\n",
       "    </tr>\n",
       "    <tr>\n",
       "      <th>4740</th>\n",
       "      <td>6517</td>\n",
       "      <td>547</td>\n",
       "      <td>1834</td>\n",
       "      <td>1287</td>\n",
       "      <td>0.540529</td>\n",
       "    </tr>\n",
       "    <tr>\n",
       "      <th>3364</th>\n",
       "      <td>4456</td>\n",
       "      <td>109</td>\n",
       "      <td>1820</td>\n",
       "      <td>1711</td>\n",
       "      <td>0.886988</td>\n",
       "    </tr>\n",
       "    <tr>\n",
       "      <th>851</th>\n",
       "      <td>1099</td>\n",
       "      <td>0</td>\n",
       "      <td>1707</td>\n",
       "      <td>1707</td>\n",
       "      <td>1.000000</td>\n",
       "    </tr>\n",
       "    <tr>\n",
       "      <th>3770</th>\n",
       "      <td>5046</td>\n",
       "      <td>97</td>\n",
       "      <td>1611</td>\n",
       "      <td>1514</td>\n",
       "      <td>0.886417</td>\n",
       "    </tr>\n",
       "  </tbody>\n",
       "</table>\n",
       "</div>"
      ]
     },
     "execution_count": 40,
     "metadata": {},
     "output_type": "execute_result"
    }
   ],
   "execution_count": 40
  },
  {
   "metadata": {
    "ExecuteTime": {
     "end_time": "2025-03-15T09:14:04.713221Z",
     "start_time": "2025-03-15T09:14:03.960841Z"
    }
   },
   "cell_type": "code",
   "source": "job_event_join_df.info()",
   "id": "f6544d818cab3424",
   "outputs": [
    {
     "name": "stdout",
     "output_type": "stream",
     "text": [
      "<class 'pandas.core.frame.DataFrame'>\n",
      "RangeIndex: 1423733 entries, 0 to 1423732\n",
      "Data columns (total 28 columns):\n",
      " #   Column                Non-Null Count    Dtype  \n",
      "---  ------                --------------    -----  \n",
      " 0   event_datetime        1423733 non-null  object \n",
      " 1   resume_id             1423733 non-null  int64  \n",
      " 2   job_id                1423733 non-null  int64  \n",
      " 3   event_platform        1423733 non-null  object \n",
      " 4   kind                  1423733 non-null  object \n",
      " 5   id                    1423733 non-null  int64  \n",
      " 6   title                 1423733 non-null  object \n",
      " 7   abstract              1423733 non-null  object \n",
      " 8   content               1423733 non-null  object \n",
      " 9   additionalSalaryText  467966 non-null   object \n",
      " 10  standout.bullet1      685874 non-null   object \n",
      " 11  standout.bullet2      683415 non-null   object \n",
      " 12  standout.bullet3      665188 non-null   object \n",
      " 13  classification        1423733 non-null  object \n",
      " 14  subClassification     1423733 non-null  object \n",
      " 15  workType              1423733 non-null  object \n",
      " 16  area_location         1423733 non-null  object \n",
      " 17  address               1423733 non-null  object \n",
      " 18  Latitude              1423733 non-null  float64\n",
      " 19  Longitude             1423733 non-null  float64\n",
      " 20  global                1423733 non-null  float64\n",
      " 21  state                 1068187 non-null  object \n",
      " 22  country               1423733 non-null  object \n",
      " 23  cleaned_content       1423733 non-null  object \n",
      " 24  abstract_content      1423733 non-null  object \n",
      " 25  keywords              1423733 non-null  object \n",
      " 26  salary_value          362887 non-null   float64\n",
      " 27  salary_unit           362887 non-null   object \n",
      "dtypes: float64(4), int64(3), object(21)\n",
      "memory usage: 304.1+ MB\n"
     ]
    }
   ],
   "execution_count": 8
  },
  {
   "metadata": {
    "ExecuteTime": {
     "end_time": "2025-03-15T09:45:40.961288Z",
     "start_time": "2025-03-15T09:45:40.945843Z"
    }
   },
   "cell_type": "code",
   "source": "from scipy.spatial import ConvexHull",
   "id": "6a8d075a49a2d1df",
   "outputs": [],
   "execution_count": 48
  },
  {
   "metadata": {
    "ExecuteTime": {
     "end_time": "2025-03-15T09:46:40.715318Z",
     "start_time": "2025-03-15T09:46:40.709936Z"
    }
   },
   "cell_type": "code",
   "source": "job_event_join_df.columns",
   "id": "b4c20205b36ca3cc",
   "outputs": [
    {
     "data": {
      "text/plain": [
       "Index(['event_datetime', 'resume_id', 'job_id', 'event_platform', 'kind', 'id',\n",
       "       'title', 'abstract', 'content', 'additionalSalaryText',\n",
       "       'standout.bullet1', 'standout.bullet2', 'standout.bullet3',\n",
       "       'classification', 'subClassification', 'workType', 'area_location',\n",
       "       'address', 'Latitude', 'Longitude', 'global', 'state', 'country',\n",
       "       'cleaned_content', 'abstract_content', 'keywords', 'salary_value',\n",
       "       'salary_unit'],\n",
       "      dtype='object')"
      ]
     },
     "execution_count": 49,
     "metadata": {},
     "output_type": "execute_result"
    }
   ],
   "execution_count": 49
  },
  {
   "metadata": {
    "ExecuteTime": {
     "end_time": "2025-03-15T11:27:14.235698Z",
     "start_time": "2025-03-15T11:27:13.688971Z"
    }
   },
   "cell_type": "code",
   "source": [
    "# Most candidates apply jobs for 6-18 different classes, for those who appied more than 18 classes, the user behaviour might be different\n",
    "classification_number = job_event_join_df.groupby([\"resume_id\"])[\"classification\"].apply(lambda x: len(set(x))).reset_index()\n",
    "\n",
    "sns.boxplot(data=classification_number)\n",
    "plt.title('Box Plot of Number of Classifications')\n",
    "plt.ylabel('Values')\n",
    "plt.show()\n",
    "classification_number.describe()"
   ],
   "id": "5d90760032c5d76d",
   "outputs": [
    {
     "data": {
      "text/plain": [
       "<Figure size 640x480 with 1 Axes>"
      ],
      "image/png": "[encoded data removed]"
     },
     "metadata": {},
     "output_type": "display_data"
    },
    {
     "data": {
      "text/plain": [
       "           resume_id  classification\n",
       "count   29568.000000    29568.000000\n",
       "mean   119667.393398       12.422179\n",
       "std    115421.427555        7.474584\n",
       "min         1.000000        1.000000\n",
       "25%     10958.750000        6.000000\n",
       "50%     74311.500000       12.000000\n",
       "75%    191039.000000       18.000000\n",
       "max    439329.000000       30.000000"
      ],
      "text/html": [
       "<div>\n",
       "<style scoped>\n",
       "    .dataframe tbody tr th:only-of-type {\n",
       "        vertical-align: middle;\n",
       "    }\n",
       "\n",
       "    .dataframe tbody tr th {\n",
       "        vertical-align: top;\n",
       "    }\n",
       "\n",
       "    .dataframe thead th {\n",
       "        text-align: right;\n",
       "    }\n",
       "</style>\n",
       "<table border=\"1\" class=\"dataframe\">\n",
       "  <thead>\n",
       "    <tr style=\"text-align: right;\">\n",
       "      <th></th>\n",
       "      <th>resume_id</th>\n",
       "      <th>classification</th>\n",
       "    </tr>\n",
       "  </thead>\n",
       "  <tbody>\n",
       "    <tr>\n",
       "      <th>count</th>\n",
       "      <td>29568.000000</td>\n",
       "      <td>29568.000000</td>\n",
       "    </tr>\n",
       "    <tr>\n",
       "      <th>mean</th>\n",
       "      <td>119667.393398</td>\n",
       "      <td>12.422179</td>\n",
       "    </tr>\n",
       "    <tr>\n",
       "      <th>std</th>\n",
       "      <td>115421.427555</td>\n",
       "      <td>7.474584</td>\n",
       "    </tr>\n",
       "    <tr>\n",
       "      <th>min</th>\n",
       "      <td>1.000000</td>\n",
       "      <td>1.000000</td>\n",
       "    </tr>\n",
       "    <tr>\n",
       "      <th>25%</th>\n",
       "      <td>10958.750000</td>\n",
       "      <td>6.000000</td>\n",
       "    </tr>\n",
       "    <tr>\n",
       "      <th>50%</th>\n",
       "      <td>74311.500000</td>\n",
       "      <td>12.000000</td>\n",
       "    </tr>\n",
       "    <tr>\n",
       "      <th>75%</th>\n",
       "      <td>191039.000000</td>\n",
       "      <td>18.000000</td>\n",
       "    </tr>\n",
       "    <tr>\n",
       "      <th>max</th>\n",
       "      <td>439329.000000</td>\n",
       "      <td>30.000000</td>\n",
       "    </tr>\n",
       "  </tbody>\n",
       "</table>\n",
       "</div>"
      ]
     },
     "execution_count": 119,
     "metadata": {},
     "output_type": "execute_result"
    }
   ],
   "execution_count": 119
  },
  {
   "metadata": {},
   "cell_type": "markdown",
   "source": "consider data within Australia only",
   "id": "5f95048f326d3041"
  },
  {
   "metadata": {
    "ExecuteTime": {
     "end_time": "2025-03-15T10:55:36.610865Z",
     "start_time": "2025-03-15T10:55:32.549970Z"
    }
   },
   "cell_type": "code",
   "source": [
    "# def calculate_bounding_box_area(points):\n",
    "#     \"\"\"Calculate the area of the bounding box for a set of points.\"\"\"\n",
    "#     min_lat, max_lat = points[:, 0].min(), points[:, 0].max()\n",
    "#     min_lon, max_lon = points[:, 1].min(), points[:, 1].max()\n",
    "#     return (max_lat - min_lat) * (max_lon - min_lon)\n",
    "#\n",
    "#\n",
    "# data_within_australia = job_event_join_df[(job_event_join_df[\"global\"]==0) & (job_event_join_df[\"Latitude\"] is not None)][['resume_id','Latitude','Longitude']]\n",
    "# grouped = data_within_australia.groupby(\"resume_id\")\n",
    "# # Apply the function to each group\n",
    "# results = grouped.apply(lambda x: calculate_bounding_box_area(x[[\"Latitude\", \"Longitude\"]].values)).reset_index()\n",
    "# results.columns = [\"resume_id\", \"area\"]\n",
    "\n",
    "# group1 = results[results[\"resume_id\"].isin(job_event_join_df_grouped[job_event_join_df_grouped[\"classification\"]<=18][\"resume_id\"].values)]\n",
    "#\n",
    "# group2 = results[results[\"resume_id\"].isin(job_event_join_df_grouped[job_event_join_df_grouped[\"classification\"]>18][\"resume_id\"].values)]\n",
    "#\n",
    "# # Create a figure and axis\n",
    "# fig, ax = plt.subplots()\n",
    "#\n",
    "# # Plot box plots for both DataFrames\n",
    "# ax.boxplot(group1[\"area\"], positions=[1], widths=0.6, patch_artist=True, boxprops=dict(facecolor=\"lightblue\"))\n",
    "# ax.boxplot(group2[\"area\"], positions=[2], widths=0.6, patch_artist=True, boxprops=dict(facecolor=\"lightblue\"))\n",
    "#\n",
    "# # Add labels and title\n",
    "# ax.set_xticks([1, 2])\n",
    "# ax.set_xticklabels([\"<18\", \">18\"])\n",
    "# ax.set_ylabel(\"Values\")\n",
    "# ax.set_title(\"Box Plot Comparison\")\n",
    "#\n",
    "# # Show the plot\n",
    "# plt.show()"
   ],
   "id": "6538b840ab8748f",
   "outputs": [
    {
     "name": "stderr",
     "output_type": "stream",
     "text": [
      "C:\\Users\\annab\\AppData\\Local\\Temp\\ipykernel_10708\\3125089781.py:11: DeprecationWarning: DataFrameGroupBy.apply operated on the grouping columns. This behavior is deprecated, and in a future version of pandas the grouping columns will be excluded from the operation. Either pass `include_groups=False` to exclude the groupings or explicitly select the grouping columns after groupby to silence this warning.\n",
      "  results = grouped.apply(lambda x: calculate_bounding_box_area(x[[\"Latitude\", \"Longitude\"]].values)).reset_index()\n"
     ]
    }
   ],
   "execution_count": 87
  },
  {
   "metadata": {
    "ExecuteTime": {
     "end_time": "2025-03-15T11:27:34.291974Z",
     "start_time": "2025-03-15T11:27:19.074313Z"
    }
   },
   "cell_type": "code",
   "source": [
    "# Haversine formula to calculate distance between two points on Earth\n",
    "def haversine(lat1, lon1, lat2, lon2):\n",
    "    \"\"\"\n",
    "    Calculate the great-circle distance between two points on the Earth.\n",
    "    :param lat1, lon1: Latitude and longitude of point 1 (in degrees).\n",
    "    :param lat2, lon2: Latitude and longitude of point 2 (in degrees).\n",
    "    :return: Distance in kilometers.\n",
    "    \"\"\"\n",
    "    # Radius of the Earth in kilometers\n",
    "    R = 6371.0\n",
    "\n",
    "    # Convert latitude and longitude from degrees to radians\n",
    "    lat1, lon1, lat2, lon2 = map(np.radians, [lat1, lon1, lat2, lon2])\n",
    "\n",
    "    # Differences in coordinates\n",
    "    dlat = lat2 - lat1\n",
    "    dlon = lon2 - lon1\n",
    "\n",
    "    # Haversine formula\n",
    "    a = np.sin(dlat / 2)**2 + np.cos(lat1) * np.cos(lat2) * np.sin(dlon / 2)**2\n",
    "    c = 2 * np.arctan2(np.sqrt(a), np.sqrt(1 - a))\n",
    "\n",
    "    # Distance in kilometers\n",
    "    distance = R * c\n",
    "    return distance\n",
    "data_within_australia = job_event_join_df[(job_event_join_df[\"global\"]==0) & (job_event_join_df[\"Latitude\"] is not None)]\n",
    "centroids = data_within_australia.groupby(\"resume_id\")[[\"Latitude\", \"Longitude\"]].mean().reset_index()\n",
    "centroids.columns = [\"resume_id\", \"center_latitude\", \"center_longitude\"]\n",
    "# Merge centroids with the original DataFrame\n",
    "data_within_australia = data_within_australia.merge(centroids, on=\"resume_id\")\n",
    "\n",
    "# Calculate distance to the center for each location\n",
    "data_within_australia[\"distance_to_center\"] = data_within_australia.apply(\n",
    "    lambda row: haversine(row[\"Latitude\"], row[\"Longitude\"], row[\"center_latitude\"], row[\"center_longitude\"]),\n",
    "    axis=1\n",
    ")\n",
    "# Find the farthest distance for each candidate\n",
    "farthest_distances = data_within_australia.groupby(\"resume_id\")[\"distance_to_center\"].agg(['max', 'min', 'mean', 'std']).reset_index()\n",
    "farthest_distances.columns = [\"resume_id\", \"farthest_distance_to_center_km\",\"shortest_distance_to_center_km\",\"average_distance_to_center_km\",\"std_distance_to_center_km\"]\n",
    "\n",
    "\n",
    "group1 = farthest_distances[farthest_distances[\"resume_id\"].isin(classification_number[classification_number[\"classification\"]<=18][\"resume_id\"].values)]\n",
    "\n",
    "group2 = farthest_distances[farthest_distances[\"resume_id\"].isin(classification_number[classification_number[\"classification\"]>18][\"resume_id\"].values)]\n",
    "\n",
    "# Create a figure and axis\n",
    "fig, ax = plt.subplots()\n",
    "\n",
    "# Plot box plots for both DataFrames\n",
    "ax.boxplot(group1[\"farthest_distance_to_center_km\"], positions=[1], widths=0.6, patch_artist=True, boxprops=dict(facecolor=\"lightblue\"))\n",
    "ax.boxplot(group2[\"farthest_distance_to_center_km\"], positions=[2], widths=0.6, patch_artist=True, boxprops=dict(facecolor=\"lightblue\"))\n",
    "\n",
    "# Add labels and title\n",
    "ax.set_xticks([1, 2])\n",
    "ax.set_xticklabels([\"<18\", \">18\"])\n",
    "ax.set_ylabel(\"Values\")\n",
    "ax.set_title(\"Box Plot Comparison\")\n",
    "\n",
    "# Show the plot\n",
    "plt.show()\n"
   ],
   "id": "7eabf5d94de5dbfa",
   "outputs": [
    {
     "data": {
      "text/plain": [
       "<Figure size 640x480 with 1 Axes>"
      ],
      "image/png": "[encoded data removed]"
     },
     "metadata": {},
     "output_type": "display_data"
    }
   ],
   "execution_count": 120
  },
  {
   "metadata": {
    "ExecuteTime": {
     "end_time": "2025-03-15T10:57:34.734241Z",
     "start_time": "2025-03-15T10:57:34.728596Z"
    }
   },
   "cell_type": "code",
   "source": "job_event_join_df.columns",
   "id": "164192f7cdc0020f",
   "outputs": [
    {
     "data": {
      "text/plain": [
       "Index(['event_datetime', 'resume_id', 'job_id', 'event_platform', 'kind', 'id',\n",
       "       'title', 'abstract', 'content', 'additionalSalaryText',\n",
       "       'standout.bullet1', 'standout.bullet2', 'standout.bullet3',\n",
       "       'classification', 'subClassification', 'workType', 'area_location',\n",
       "       'address', 'Latitude', 'Longitude', 'global', 'state', 'country',\n",
       "       'cleaned_content', 'abstract_content', 'keywords', 'salary_value',\n",
       "       'salary_unit'],\n",
       "      dtype='object')"
      ]
     },
     "execution_count": 89,
     "metadata": {},
     "output_type": "execute_result"
    }
   ],
   "execution_count": 89
  },
  {
   "metadata": {
    "ExecuteTime": {
     "end_time": "2025-03-15T11:40:21.730945Z",
     "start_time": "2025-03-15T11:40:18.300489Z"
    }
   },
   "cell_type": "code",
   "source": [
    "# most frequent work type\n",
    "most_frequent_kind = data_within_australia.groupby(\"resume_id\")[\"workType\"].apply(lambda x: x.mode()[0]).reset_index()\n",
    "print(job_event_join_df.groupby(\"workType\")[\"resume_id\"].count())\n",
    "group1 = farthest_distances[farthest_distances[\"resume_id\"].isin(most_frequent_kind[most_frequent_kind[\"workType\"]=='Full Time'][\"resume_id\"].values)]\n",
    "\n",
    "group2 = farthest_distances[farthest_distances[\"resume_id\"].isin(most_frequent_kind[most_frequent_kind[\"workType\"]==\"Contract/Temp\"][\"resume_id\"].values)]\n",
    "group3 = farthest_distances[farthest_distances[\"resume_id\"].isin(most_frequent_kind[most_frequent_kind[\"workType\"]=='Casual/Vacation'][\"resume_id\"].values)]\n",
    "\n",
    "group4 = farthest_distances[farthest_distances[\"resume_id\"].isin(most_frequent_kind[most_frequent_kind[\"workType\"]==\"Part Time\"][\"resume_id\"].values)]\n",
    "\n",
    "# Create a figure and axis\n",
    "fig, ax = plt.subplots()\n",
    "\n",
    "# Plot box plots for both DataFrames\n",
    "ax.boxplot(group1[\"shortest_distance_to_center_km\"], positions=[1], widths=0.6, patch_artist=True, boxprops=dict(facecolor=\"lightblue\"))\n",
    "ax.boxplot(group2[\"shortest_distance_to_center_km\"], positions=[2], widths=0.6, patch_artist=True, boxprops=dict(facecolor=\"lightblue\"))\n",
    "ax.boxplot(group3[\"shortest_distance_to_center_km\"], positions=[3], widths=0.6, patch_artist=True, boxprops=dict(facecolor=\"lightblue\"))\n",
    "ax.boxplot(group4[\"shortest_distance_to_center_km\"], positions=[4], widths=0.6, patch_artist=True, boxprops=dict(facecolor=\"lightblue\"))\n",
    "# Add labels and title\n",
    "ax.set_xticks([1, 2,3,4])\n",
    "ax.set_xticklabels([\"Full Time\", \"Contract/Temp\", \"Casual/Vacation\", \"Part Time\"])\n",
    "ax.set_ylabel(\"Values\")\n",
    "ax.set_title(\"Farthest Distance per Work Type\")\n",
    "\n",
    "# Show the plot\n",
    "plt.show()\n",
    "\n",
    "classification_number = data_within_australia.groupby([\"resume_id\"])[\"classification\"].apply(lambda x: len(set(x)))\n",
    "classification_number = classification_number.reset_index()\n",
    "\n",
    "\n",
    "group1 = classification_number[classification_number[\"resume_id\"].isin(most_frequent_kind[most_frequent_kind[\"workType\"]=='Full Time'][\"resume_id\"].values)]\n",
    "\n",
    "group2 = classification_number[classification_number[\"resume_id\"].isin(most_frequent_kind[most_frequent_kind[\"workType\"]==\"Contract/Temp\"][\"resume_id\"].values)]\n",
    "group3 = classification_number[classification_number[\"resume_id\"].isin(most_frequent_kind[most_frequent_kind[\"workType\"]=='Casual/Vacation'][\"resume_id\"].values)]\n",
    "\n",
    "group4 = classification_number[classification_number[\"resume_id\"].isin(most_frequent_kind[most_frequent_kind[\"workType\"]==\"Part Time\"][\"resume_id\"].values)]\n",
    "# Create a figure and axis\n",
    "fig, ax = plt.subplots()\n",
    "\n",
    "# Plot box plots for both DataFrames\n",
    "ax.boxplot(group1[\"classification\"], positions=[1], widths=0.6, patch_artist=True, boxprops=dict(facecolor=\"lightblue\"))\n",
    "ax.boxplot(group2[\"classification\"], positions=[2], widths=0.6, patch_artist=True, boxprops=dict(facecolor=\"lightblue\"))\n",
    "ax.boxplot(group3[\"classification\"], positions=[3], widths=0.6, patch_artist=True, boxprops=dict(facecolor=\"lightblue\"))\n",
    "ax.boxplot(group4[\"classification\"], positions=[4], widths=0.6, patch_artist=True, boxprops=dict(facecolor=\"lightblue\"))\n",
    "# Add labels and title\n",
    "ax.set_xticks([1, 2,3,4])\n",
    "ax.set_xticklabels([\"Full Time\", \"Contract/Temp\", \"Casual/Vacation\", \"Part Time\"])\n",
    "ax.set_ylabel(\"Values\")\n",
    "ax.set_title(\"Number of Classifications per Work Type\")\n",
    "\n",
    "# Show the plot\n",
    "plt.show()\n",
    "\n"
   ],
   "id": "802ae2132a3650d5",
   "outputs": [
    {
     "name": "stdout",
     "output_type": "stream",
     "text": [
      "workType\n",
      "Casual/Vacation     93954\n",
      "Contract/Temp      240937\n",
      "Full Time          996530\n",
      "Part Time           92312\n",
      "Name: resume_id, dtype: int64\n"
     ]
    },
    {
     "data": {
      "text/plain": [
       "<Figure size 640x480 with 1 Axes>"
      ],
      "image/png": "[encoded data removed]"
     },
     "metadata": {},
     "output_type": "display_data"
    },
    {
     "data": {
      "text/plain": [
       "<Figure size 640x480 with 1 Axes>"
      ],
      "image/png": "[encoded data removed]"
     },
     "metadata": {},
     "output_type": "display_data"
    }
   ],
   "execution_count": 132
  },
  {
   "metadata": {
    "ExecuteTime": {
     "end_time": "2025-03-15T11:32:39.071589Z",
     "start_time": "2025-03-15T11:32:39.065100Z"
    }
   },
   "cell_type": "code",
   "source": "farthest_distances.columns",
   "id": "8f552f3cd97fb79e",
   "outputs": [
    {
     "data": {
      "text/plain": [
       "Index(['resume_id', 'farthest_distance_to_center_km',\n",
       "       'shortest_distance_to_center_km', 'average_distance_to_center_km',\n",
       "       'std_distance_to_center_km'],\n",
       "      dtype='object')"
      ]
     },
     "execution_count": 126,
     "metadata": {},
     "output_type": "execute_result"
    }
   ],
   "execution_count": 126
  },
  {
   "metadata": {
    "ExecuteTime": {
     "end_time": "2025-03-15T11:37:21.595248Z",
     "start_time": "2025-03-15T11:37:21.589536Z"
    }
   },
   "cell_type": "code",
   "source": [
    "def draw_box_plot(group_data,column_name,group_name,title):\n",
    "    fig, ax = plt.subplots()\n",
    "    for idx,group in enumerate(group_data):\n",
    "        ax.boxplot(group[column_name], positions=[idx+1], widths=0.6, patch_artist=True, boxprops=dict(facecolor=\"lightblue\"))\n",
    "    # Add labels and title\n",
    "    ax.set_xticks(list(range(len(group_data))))\n",
    "    ax.set_xticklabels(group_name)\n",
    "    ax.set_ylabel(\"Values\")\n",
    "    ax.set_title(title)\n",
    "    plt.show()"
   ],
   "id": "d5083e60d6b39dff",
   "outputs": [],
   "execution_count": 130
  },
  {
   "metadata": {
    "ExecuteTime": {
     "end_time": "2025-03-15T11:38:44.508186Z",
     "start_time": "2025-03-15T11:38:44.038867Z"
    }
   },
   "cell_type": "code",
   "source": [
    "# number of work type\n",
    "num_of_kind = data_within_australia.groupby(\"resume_id\")[\"workType\"].apply(lambda x: len(set(x))).reset_index()\n",
    "\n",
    "group1 = farthest_distances[farthest_distances[\"resume_id\"].isin(num_of_kind[num_of_kind[\"workType\"]==1][\"resume_id\"].values)]\n",
    "\n",
    "group2 = farthest_distances[farthest_distances[\"resume_id\"].isin(num_of_kind[num_of_kind[\"workType\"]==2][\"resume_id\"].values)]\n",
    "group3 = farthest_distances[farthest_distances[\"resume_id\"].isin(num_of_kind[num_of_kind[\"workType\"]==3][\"resume_id\"].values)]\n",
    "\n",
    "group4 = farthest_distances[farthest_distances[\"resume_id\"].isin(num_of_kind[num_of_kind[\"workType\"]==4][\"resume_id\"].values)]\n",
    "\n",
    "draw_box_plot([group1,group2,group3,group4],\"farthest_distance_to_center_km\",[1,2,3,4],\"Number of Classifications per Work Type\")\n",
    "# # Create a figure and axis\n",
    "# fig, ax = plt.subplots()\n",
    "#\n",
    "# # Plot box plots for both DataFrames\n",
    "# ax.boxplot(group1[\"farthest_distance_to_center_km\"], positions=[1], widths=0.6, patch_artist=True, boxprops=dict(facecolor=\"lightblue\"))\n",
    "# ax.boxplot(group2[\"farthest_distance_to_center_km\"], positions=[2], widths=0.6, patch_artist=True, boxprops=dict(facecolor=\"lightblue\"))\n",
    "# ax.boxplot(group3[\"farthest_distance_to_center_km\"], positions=[3], widths=0.6, patch_artist=True, boxprops=dict(facecolor=\"lightblue\"))\n",
    "# ax.boxplot(group4[\"farthest_distance_to_center_km\"], positions=[4], widths=0.6, patch_artist=True, boxprops=dict(facecolor=\"lightblue\"))\n",
    "# # Add labels and title\n",
    "# ax.set_xticks([1, 2,3,4])\n",
    "# ax.set_xticklabels([\"1\", \"2\", \"3\", \"4\"])\n",
    "# ax.set_ylabel(\"Values\")\n",
    "# ax.set_title(\"Number of Classifications per Work Type\")\n",
    "#\n",
    "# # Show the plot\n",
    "# plt.show()\n",
    "# # number of platform\n"
   ],
   "id": "6cad6de8aa990304",
   "outputs": [
    {
     "data": {
      "text/plain": [
       "<Figure size 640x480 with 1 Axes>"
      ],
      "image/png": "[encoded data removed]"
     },
     "metadata": {},
     "output_type": "display_data"
    }
   ],
   "execution_count": 131
  },
  {
   "metadata": {
    "ExecuteTime": {
     "end_time": "2025-03-15T11:15:31.367103Z",
     "start_time": "2025-03-15T11:15:30.985022Z"
    }
   },
   "cell_type": "code",
   "source": "",
   "id": "f762ed2dad970cb1",
   "outputs": [
    {
     "data": {
      "text/plain": [
       "       resume_id  classification\n",
       "0              1              15\n",
       "1              2              21\n",
       "2              3               5\n",
       "3              4              14\n",
       "4              5              11\n",
       "...          ...             ...\n",
       "29563     438636               3\n",
       "29564     438685              10\n",
       "29565     438904               2\n",
       "29566     439309               5\n",
       "29567     439329               8\n",
       "\n",
       "[29568 rows x 2 columns]"
      ],
      "text/html": [
       "<div>\n",
       "<style scoped>\n",
       "    .dataframe tbody tr th:only-of-type {\n",
       "        vertical-align: middle;\n",
       "    }\n",
       "\n",
       "    .dataframe tbody tr th {\n",
       "        vertical-align: top;\n",
       "    }\n",
       "\n",
       "    .dataframe thead th {\n",
       "        text-align: right;\n",
       "    }\n",
       "</style>\n",
       "<table border=\"1\" class=\"dataframe\">\n",
       "  <thead>\n",
       "    <tr style=\"text-align: right;\">\n",
       "      <th></th>\n",
       "      <th>resume_id</th>\n",
       "      <th>classification</th>\n",
       "    </tr>\n",
       "  </thead>\n",
       "  <tbody>\n",
       "    <tr>\n",
       "      <th>0</th>\n",
       "      <td>1</td>\n",
       "      <td>15</td>\n",
       "    </tr>\n",
       "    <tr>\n",
       "      <th>1</th>\n",
       "      <td>2</td>\n",
       "      <td>21</td>\n",
       "    </tr>\n",
       "    <tr>\n",
       "      <th>2</th>\n",
       "      <td>3</td>\n",
       "      <td>5</td>\n",
       "    </tr>\n",
       "    <tr>\n",
       "      <th>3</th>\n",
       "      <td>4</td>\n",
       "      <td>14</td>\n",
       "    </tr>\n",
       "    <tr>\n",
       "      <th>4</th>\n",
       "      <td>5</td>\n",
       "      <td>11</td>\n",
       "    </tr>\n",
       "    <tr>\n",
       "      <th>...</th>\n",
       "      <td>...</td>\n",
       "      <td>...</td>\n",
       "    </tr>\n",
       "    <tr>\n",
       "      <th>29563</th>\n",
       "      <td>438636</td>\n",
       "      <td>3</td>\n",
       "    </tr>\n",
       "    <tr>\n",
       "      <th>29564</th>\n",
       "      <td>438685</td>\n",
       "      <td>10</td>\n",
       "    </tr>\n",
       "    <tr>\n",
       "      <th>29565</th>\n",
       "      <td>438904</td>\n",
       "      <td>2</td>\n",
       "    </tr>\n",
       "    <tr>\n",
       "      <th>29566</th>\n",
       "      <td>439309</td>\n",
       "      <td>5</td>\n",
       "    </tr>\n",
       "    <tr>\n",
       "      <th>29567</th>\n",
       "      <td>439329</td>\n",
       "      <td>8</td>\n",
       "    </tr>\n",
       "  </tbody>\n",
       "</table>\n",
       "<p>29568 rows × 2 columns</p>\n",
       "</div>"
      ]
     },
     "execution_count": 107,
     "metadata": {},
     "output_type": "execute_result"
    }
   ],
   "execution_count": 107
  },
  {
   "metadata": {},
   "cell_type": "code",
   "outputs": [],
   "execution_count": null,
   "source": "",
   "id": "715e3b01b281be25"
  },
  {
   "metadata": {
    "ExecuteTime": {
     "end_time": "2025-03-15T09:56:11.942074Z",
     "start_time": "2025-03-15T09:56:11.876118Z"
    }
   },
   "cell_type": "code",
   "source": [
    "sns.boxplot(data=group2['area'])\n",
    "plt.title('Box Plot of Columns diff')\n",
    "plt.ylabel('Values')\n",
    "plt.show()"
   ],
   "id": "1ddccc78dd900acc",
   "outputs": [
    {
     "data": {
      "text/plain": [
       "<Figure size 640x480 with 1 Axes>"
      ],
      "image/png": "[encoded data removed]"
     },
     "metadata": {},
     "output_type": "display_data"
    }
   ],
   "execution_count": 64
  },
  {
   "metadata": {},
   "cell_type": "markdown",
   "source": "",
   "id": "c028c9a8612281a6"
  },
  {
   "metadata": {
    "ExecuteTime": {
     "end_time": "2025-03-15T09:26:00.554654Z",
     "start_time": "2025-03-15T09:26:00.154558Z"
    }
   },
   "cell_type": "code",
   "source": "\n",
   "id": "2b3ea0e2ab7a605f",
   "outputs": [
    {
     "data": {
      "text/plain": [
       "<Figure size 640x480 with 1 Axes>"
      ],
      "image/png": "[encoded data removed]"
     },
     "metadata": {},
     "output_type": "display_data"
    },
    {
     "data": {
      "text/plain": [
       "count    29568.000000\n",
       "mean        12.422179\n",
       "std          7.474584\n",
       "min          1.000000\n",
       "25%          6.000000\n",
       "50%         12.000000\n",
       "75%         18.000000\n",
       "max         30.000000\n",
       "Name: classification, dtype: float64"
      ]
     },
     "execution_count": 22,
     "metadata": {},
     "output_type": "execute_result"
    }
   ],
   "execution_count": 22
  },
  {
   "metadata": {
    "ExecuteTime": {
     "end_time": "2025-03-15T09:26:23.797351Z",
     "start_time": "2025-03-15T09:26:23.792917Z"
    }
   },
   "cell_type": "code",
   "source": "job_event_join_df_grouped = job_event_join_df_grouped.reset_index()\n",
   "id": "899b42e72dc4f370",
   "outputs": [],
   "execution_count": 24
  },
  {
   "metadata": {
    "ExecuteTime": {
     "end_time": "2025-03-15T09:39:31.897546Z",
     "start_time": "2025-03-15T09:39:31.839525Z"
    }
   },
   "cell_type": "code",
   "source": "group1 = event_data_pivot_kind_df[event_data_pivot_kind_df[\"resume_id\"].isin(job_event_join_df_grouped[job_event_join_df_grouped[\"classification\"]<=18][\"resume_id\"].values)]",
   "id": "cd7324320f2818c3",
   "outputs": [],
   "execution_count": 41
  },
  {
   "metadata": {
    "ExecuteTime": {
     "end_time": "2025-03-15T09:39:33.799531Z",
     "start_time": "2025-03-15T09:39:33.722764Z"
    }
   },
   "cell_type": "code",
   "source": "group2 = event_data_pivot_kind_df[event_data_pivot_kind_df[\"resume_id\"].isin(job_event_join_df_grouped[job_event_join_df_grouped[\"classification\"]>18][\"resume_id\"].values)]",
   "id": "2059bf5017f4f5ba",
   "outputs": [],
   "execution_count": 42
  },
  {
   "metadata": {
    "ExecuteTime": {
     "end_time": "2025-03-15T09:41:11.086130Z",
     "start_time": "2025-03-15T09:41:11.080076Z"
    }
   },
   "cell_type": "code",
   "source": "group2[\"diff_percentage\"].describe()",
   "id": "d61554b2aea5152",
   "outputs": [
    {
     "data": {
      "text/plain": [
       "count    6949.000000\n",
       "mean        0.889149\n",
       "std         0.244808\n",
       "min        -1.000000\n",
       "25%         0.986842\n",
       "50%         1.000000\n",
       "75%         1.000000\n",
       "max         1.000000\n",
       "Name: diff_percentage, dtype: float64"
      ]
     },
     "execution_count": 47,
     "metadata": {},
     "output_type": "execute_result"
    }
   ],
   "execution_count": 47
  },
  {
   "metadata": {
    "ExecuteTime": {
     "end_time": "2025-03-15T09:41:04.308775Z",
     "start_time": "2025-03-15T09:41:04.299109Z"
    }
   },
   "cell_type": "code",
   "source": "group1[\"diff_percentage\"].describe()",
   "id": "912cf14d367277ac",
   "outputs": [
    {
     "data": {
      "text/plain": [
       "count    22619.000000\n",
       "mean         0.926152\n",
       "std          0.254140\n",
       "min         -1.000000\n",
       "25%          1.000000\n",
       "50%          1.000000\n",
       "75%          1.000000\n",
       "max          1.000000\n",
       "Name: diff_percentage, dtype: float64"
      ]
     },
     "execution_count": 46,
     "metadata": {},
     "output_type": "execute_result"
    }
   ],
   "execution_count": 46
  },
  {
   "metadata": {
    "ExecuteTime": {
     "end_time": "2025-03-15T09:39:41.355282Z",
     "start_time": "2025-03-15T09:39:41.339049Z"
    }
   },
   "cell_type": "code",
   "source": "group1.columns",
   "id": "e03237a7508b7e0d",
   "outputs": [
    {
     "data": {
      "text/plain": [
       "Index(['resume_id', 'A', 'V', 'diff', 'diff_percentage'], dtype='object')"
      ]
     },
     "execution_count": 43,
     "metadata": {},
     "output_type": "execute_result"
    }
   ],
   "execution_count": 43
  },
  {
   "metadata": {
    "ExecuteTime": {
     "end_time": "2025-03-15T09:39:58.383246Z",
     "start_time": "2025-03-15T09:39:58.313847Z"
    }
   },
   "cell_type": "code",
   "source": [
    "sns.boxplot(data=group2[\"diff_percentage\"])\n",
    "plt.title('Box Plot of Columns diff')\n",
    "plt.ylabel('Values')\n",
    "plt.show()\n"
   ],
   "id": "9a535ed157fdf711",
   "outputs": [
    {
     "data": {
      "text/plain": [
       "<Figure size 640x480 with 1 Axes>"
      ],
      "image/png": "[encoded data removed]"
     },
     "metadata": {},
     "output_type": "display_data"
    }
   ],
   "execution_count": 44
  },
  {
   "metadata": {
    "ExecuteTime": {
     "end_time": "2025-03-15T09:40:08.021002Z",
     "start_time": "2025-03-15T09:40:07.932773Z"
    }
   },
   "cell_type": "code",
   "source": [
    "sns.boxplot(data=group1[\"diff_percentage\"])\n",
    "plt.title('Box Plot of Columns diff')\n",
    "plt.ylabel('Values')\n",
    "plt.show()"
   ],
   "id": "7d27ad52f845acd6",
   "outputs": [
    {
     "data": {
      "text/plain": [
       "<Figure size 640x480 with 1 Axes>"
      ],
      "image/png": "[encoded data removed]"
     },
     "metadata": {},
     "output_type": "display_data"
    }
   ],
   "execution_count": 45
  }
 ],
 "metadata": {
  "kernelspec": {
   "display_name": "Python 3",
   "language": "python",
   "name": "python3"
  },
  "language_info": {
   "codemirror_mode": {
    "name": "ipython",
    "version": 2
   },
   "file_extension": ".py",
   "mimetype": "text/x-python",
   "name": "python",
   "nbconvert_exporter": "python",
   "pygments_lexer": "ipython2",
   "version": "2.7.6"
  }
 },
 "nbformat": 4,
 "nbformat_minor": 5
}
