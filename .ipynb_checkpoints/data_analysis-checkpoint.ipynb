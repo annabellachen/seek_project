{
 "cells": [
  {
   "cell_type": "code",
   "id": "initial_id",
   "metadata": {
    "collapsed": true,
    "ExecuteTime": {
     "end_time": "2025-03-12T23:02:23.281487Z",
     "start_time": "2025-03-12T23:02:22.847607Z"
    }
   },
   "source": [
    "import lzma\n",
    "import json\n",
    "import pandas as pd"
   ],
   "outputs": [],
   "execution_count": 1
  },
  {
   "metadata": {
    "ExecuteTime": {
     "end_time": "2025-03-12T23:17:31.957091Z",
     "start_time": "2025-03-12T23:17:31.951458Z"
    }
   },
   "cell_type": "code",
   "source": "# Read job advertisement and event data",
   "id": "8dda5d32bfb4c096",
   "outputs": [],
   "execution_count": 13
  },
  {
   "metadata": {
    "ExecuteTime": {
     "end_time": "2025-03-12T23:02:25.341917Z",
     "start_time": "2025-03-12T23:02:23.291520Z"
    }
   },
   "cell_type": "code",
   "source": [
    "# load job ad data in .json.xz format\n",
    "job_ad_file_path = 'data/ads-50k.json.xz'\n",
    "\n",
    "job_ad_array = []\n",
    "# Read the compressed JSON file into a DataFrame\n",
    "with lzma.open(job_ad_file_path, 'rt', encoding='utf-8') as file:\n",
    "    for i, line in enumerate(file):\n",
    "        data = json.loads(line.strip())\n",
    "        job_ad_array.append(data)\n",
    "if job_ad_array:\n",
    "    job_ad_df = pd.DataFrame(job_ad_array)"
   ],
   "id": "d9ee1bfbc8ad40d2",
   "outputs": [],
   "execution_count": 2
  },
  {
   "metadata": {
    "ExecuteTime": {
     "end_time": "2025-03-12T23:02:27.117383Z",
     "start_time": "2025-03-12T23:02:27.097316Z"
    }
   },
   "cell_type": "code",
   "source": "job_ad_df.head()",
   "id": "e8b784bfef423329",
   "outputs": [
    {
     "data": {
      "text/plain": [
       "         id                                              title  \\\n",
       "0  38915469                             Recruitment Consultant   \n",
       "1  38934839                     Computers Salesperson - Coburg   \n",
       "2  38946054                              Senior Developer | SA   \n",
       "3  38833950  Senior Commercial Property Manager | Leading T...   \n",
       "4  38856271               Technology Manager | Travel Industry   \n",
       "\n",
       "                                            abstract  \\\n",
       "0  We are looking for someone to focus purely on ...   \n",
       "1  Passionate about exceptional customer service?...   \n",
       "2  Readifarians are known for discovering the lat...   \n",
       "3  ~ Rare opportunity for a Senior PM to step int...   \n",
       "4  Rare opportunity for an experienced Technology...   \n",
       "\n",
       "                                             content  \\\n",
       "0  <HTML><p>Are you looking to join a thriving bu...   \n",
       "1  <HTML><p>&middot;&nbsp;&nbsp;Casual hours as r...   \n",
       "2  <HTML><p>Readify helps organizations innovate ...   \n",
       "3  <HTML><p><strong>WayPoint Recruitment&nbsp;</s...   \n",
       "4  <HTML>This is a key role within a market leadi...   \n",
       "\n",
       "                                            metadata  \n",
       "0  {'standout': {'bullet1': 'Join a Sector that i...  \n",
       "1  {'additionalSalaryText': 'Attractive Commissio...  \n",
       "2  {'standout': {'bullet1': 'Design, develop, tes...  \n",
       "3  {'additionalSalaryText': '$140k + Car Park - C...  \n",
       "4  {'standout': {'bullet1': 'Lead overarching str...  "
      ],
      "text/html": [
       "<div>\n",
       "<style scoped>\n",
       "    .dataframe tbody tr th:only-of-type {\n",
       "        vertical-align: middle;\n",
       "    }\n",
       "\n",
       "    .dataframe tbody tr th {\n",
       "        vertical-align: top;\n",
       "    }\n",
       "\n",
       "    .dataframe thead th {\n",
       "        text-align: right;\n",
       "    }\n",
       "</style>\n",
       "<table border=\"1\" class=\"dataframe\">\n",
       "  <thead>\n",
       "    <tr style=\"text-align: right;\">\n",
       "      <th></th>\n",
       "      <th>id</th>\n",
       "      <th>title</th>\n",
       "      <th>abstract</th>\n",
       "      <th>content</th>\n",
       "      <th>metadata</th>\n",
       "    </tr>\n",
       "  </thead>\n",
       "  <tbody>\n",
       "    <tr>\n",
       "      <th>0</th>\n",
       "      <td>38915469</td>\n",
       "      <td>Recruitment Consultant</td>\n",
       "      <td>We are looking for someone to focus purely on ...</td>\n",
       "      <td>&lt;HTML&gt;&lt;p&gt;Are you looking to join a thriving bu...</td>\n",
       "      <td>{'standout': {'bullet1': 'Join a Sector that i...</td>\n",
       "    </tr>\n",
       "    <tr>\n",
       "      <th>1</th>\n",
       "      <td>38934839</td>\n",
       "      <td>Computers Salesperson - Coburg</td>\n",
       "      <td>Passionate about exceptional customer service?...</td>\n",
       "      <td>&lt;HTML&gt;&lt;p&gt;&amp;middot;&amp;nbsp;&amp;nbsp;Casual hours as r...</td>\n",
       "      <td>{'additionalSalaryText': 'Attractive Commissio...</td>\n",
       "    </tr>\n",
       "    <tr>\n",
       "      <th>2</th>\n",
       "      <td>38946054</td>\n",
       "      <td>Senior Developer | SA</td>\n",
       "      <td>Readifarians are known for discovering the lat...</td>\n",
       "      <td>&lt;HTML&gt;&lt;p&gt;Readify helps organizations innovate ...</td>\n",
       "      <td>{'standout': {'bullet1': 'Design, develop, tes...</td>\n",
       "    </tr>\n",
       "    <tr>\n",
       "      <th>3</th>\n",
       "      <td>38833950</td>\n",
       "      <td>Senior Commercial Property Manager | Leading T...</td>\n",
       "      <td>~ Rare opportunity for a Senior PM to step int...</td>\n",
       "      <td>&lt;HTML&gt;&lt;p&gt;&lt;strong&gt;WayPoint Recruitment&amp;nbsp;&lt;/s...</td>\n",
       "      <td>{'additionalSalaryText': '$140k + Car Park - C...</td>\n",
       "    </tr>\n",
       "    <tr>\n",
       "      <th>4</th>\n",
       "      <td>38856271</td>\n",
       "      <td>Technology Manager | Travel Industry</td>\n",
       "      <td>Rare opportunity for an experienced Technology...</td>\n",
       "      <td>&lt;HTML&gt;This is a key role within a market leadi...</td>\n",
       "      <td>{'standout': {'bullet1': 'Lead overarching str...</td>\n",
       "    </tr>\n",
       "  </tbody>\n",
       "</table>\n",
       "</div>"
      ]
     },
     "execution_count": 3,
     "metadata": {},
     "output_type": "execute_result"
    }
   ],
   "execution_count": 3
  },
  {
   "metadata": {
    "ExecuteTime": {
     "end_time": "2025-03-12T23:10:40.202091Z",
     "start_time": "2025-03-12T23:10:38.876264Z"
    }
   },
   "cell_type": "code",
   "source": [
    "# Path to your .csv.xz file\n",
    "event_file_path = 'data/ads-50k-events.csv.gz'\n",
    "\n",
    "# Read the compressed CSV file into a DataFrame\n",
    "with lzma.open(event_file_path, 'rt', encoding='utf-8') as file:\n",
    "    event_data_df = pd.read_csv(event_file_path)"
   ],
   "id": "d336963273e6e310",
   "outputs": [],
   "execution_count": 8
  },
  {
   "metadata": {
    "ExecuteTime": {
     "end_time": "2025-03-12T23:12:04.712370Z",
     "start_time": "2025-03-12T23:12:04.701053Z"
    }
   },
   "cell_type": "code",
   "source": "event_data_df.head()",
   "id": "b767a405f7bf3132",
   "outputs": [
    {
     "data": {
      "text/plain": [
       "        event_datetime  resume_id    job_id event_platform kind\n",
       "0  2021-05-01T08:42:05     158655  38820886        IOS_APP    V\n",
       "1  2021-05-01T08:42:05     158655  38901970        IOS_APP    V\n",
       "2  2021-05-01T08:42:05     158655  38919645        IOS_APP    V\n",
       "3  2021-05-01T08:42:05     158655  38928402        IOS_APP    V\n",
       "4  2021-05-01T08:42:05     158655  38847632        IOS_APP    V"
      ],
      "text/html": [
       "<div>\n",
       "<style scoped>\n",
       "    .dataframe tbody tr th:only-of-type {\n",
       "        vertical-align: middle;\n",
       "    }\n",
       "\n",
       "    .dataframe tbody tr th {\n",
       "        vertical-align: top;\n",
       "    }\n",
       "\n",
       "    .dataframe thead th {\n",
       "        text-align: right;\n",
       "    }\n",
       "</style>\n",
       "<table border=\"1\" class=\"dataframe\">\n",
       "  <thead>\n",
       "    <tr style=\"text-align: right;\">\n",
       "      <th></th>\n",
       "      <th>event_datetime</th>\n",
       "      <th>resume_id</th>\n",
       "      <th>job_id</th>\n",
       "      <th>event_platform</th>\n",
       "      <th>kind</th>\n",
       "    </tr>\n",
       "  </thead>\n",
       "  <tbody>\n",
       "    <tr>\n",
       "      <th>0</th>\n",
       "      <td>2021-05-01T08:42:05</td>\n",
       "      <td>158655</td>\n",
       "      <td>38820886</td>\n",
       "      <td>IOS_APP</td>\n",
       "      <td>V</td>\n",
       "    </tr>\n",
       "    <tr>\n",
       "      <th>1</th>\n",
       "      <td>2021-05-01T08:42:05</td>\n",
       "      <td>158655</td>\n",
       "      <td>38901970</td>\n",
       "      <td>IOS_APP</td>\n",
       "      <td>V</td>\n",
       "    </tr>\n",
       "    <tr>\n",
       "      <th>2</th>\n",
       "      <td>2021-05-01T08:42:05</td>\n",
       "      <td>158655</td>\n",
       "      <td>38919645</td>\n",
       "      <td>IOS_APP</td>\n",
       "      <td>V</td>\n",
       "    </tr>\n",
       "    <tr>\n",
       "      <th>3</th>\n",
       "      <td>2021-05-01T08:42:05</td>\n",
       "      <td>158655</td>\n",
       "      <td>38928402</td>\n",
       "      <td>IOS_APP</td>\n",
       "      <td>V</td>\n",
       "    </tr>\n",
       "    <tr>\n",
       "      <th>4</th>\n",
       "      <td>2021-05-01T08:42:05</td>\n",
       "      <td>158655</td>\n",
       "      <td>38847632</td>\n",
       "      <td>IOS_APP</td>\n",
       "      <td>V</td>\n",
       "    </tr>\n",
       "  </tbody>\n",
       "</table>\n",
       "</div>"
      ]
     },
     "execution_count": 9,
     "metadata": {},
     "output_type": "execute_result"
    }
   ],
   "execution_count": 9
  },
  {
   "metadata": {
    "ExecuteTime": {
     "end_time": "2025-03-12T23:15:11.181867Z",
     "start_time": "2025-03-12T23:15:11.041074Z"
    }
   },
   "cell_type": "code",
   "source": "event_data_df['event_platform'].unique()",
   "id": "3870a86b86c4ac52",
   "outputs": [
    {
     "data": {
      "text/plain": [
       "array(['IOS_APP', 'ANDROID_APP', 'WEB'], dtype=object)"
      ]
     },
     "execution_count": 11,
     "metadata": {},
     "output_type": "execute_result"
    }
   ],
   "execution_count": 11
  },
  {
   "metadata": {
    "ExecuteTime": {
     "end_time": "2025-03-12T23:15:23.202206Z",
     "start_time": "2025-03-12T23:15:23.096257Z"
    }
   },
   "cell_type": "code",
   "source": "event_data_df['kind'].unique()",
   "id": "e6e4d610f9d3c18e",
   "outputs": [
    {
     "data": {
      "text/plain": [
       "array(['V', 'A'], dtype=object)"
      ]
     },
     "execution_count": 12,
     "metadata": {},
     "output_type": "execute_result"
    }
   ],
   "execution_count": 12
  }
 ],
 "metadata": {
  "kernelspec": {
   "display_name": "Python 3",
   "language": "python",
   "name": "python3"
  },
  "language_info": {
   "codemirror_mode": {
    "name": "ipython",
    "version": 2
   },
   "file_extension": ".py",
   "mimetype": "text/x-python",
   "name": "python",
   "nbconvert_exporter": "python",
   "pygments_lexer": "ipython2",
   "version": "2.7.6"
  }
 },
 "nbformat": 4,
 "nbformat_minor": 5
}
